{
 "cells": [
  {
   "cell_type": "code",
   "execution_count": 177,
   "metadata": {},
   "outputs": [
    {
     "name": "stdout",
     "output_type": "stream",
     "text": [
      "['ExtractorFan1', 'Oven1', 'Toaster1', 'Refrigerator1', 'Rice_Cooker1', 'Refrigerator1', 'Toaster1', 'Refrigerator1', 'Rice_Cooker1', 'Microwave1', 'DishWasher1', 'Stove1', 'CounterDrawer1', 'Microwave1', 'RubbishBin1', 'DishWasher1', 'Refrigerator1', 'Oven1', 'ExtractorFan1', 'Stove1', 'Oven1', 'Oven1', 'CounterDrawer1', 'Rice_Cooker1', 'ExtractorFan1', 'DishWasher1', 'Stove1', 'CoffeeMachine1', 'Refrigerator1', 'Toaster1', 'CounterDrawer1', 'Stove1', 'Rice_Cooker1', 'Light1', 'Stove1', 'CoffeeMachine1', 'CoffeeMachine1', 'ExtractorFan1', 'ExtractorFan1', 'CoffeeMachine1', 'CounterDrawer1', 'Light1', 'CounterDrawer1', 'Microwave1', 'Stove1', 'CoffeeMachine1', 'ExtractorFan1', 'Oven1', 'Toaster1', 'Refrigerator1', 'Toaster1', 'DishWasher1', 'Toaster1', 'Toaster1', 'CoffeeMachine1', 'Light1', 'Toaster1', 'RubbishBin1', 'Oven1', 'Oven1', 'Light1', 'ExtractorFan1', 'CoffeeMachine1', 'RubbishBin1', 'DishWasher1', 'ExtractorFan1', 'Refrigerator1', 'Light1', 'CoffeeMachine1', 'DishWasher1', 'CounterDrawer1', 'DishWasher1', 'Rice_Cooker1', 'Microwave1', 'Refrigerator1', 'Oven1', 'Light1', 'Oven1', 'Oven1', 'Stove1', 'CoffeeMachine1', 'Stove1', 'DishWasher1', 'CoffeeMachine1', 'CounterDrawer1', 'Stove1', 'ExtractorFan1', 'DishWasher1', 'CounterDrawer1', 'CounterDrawer1', 'Light1', 'Rice_Cooker1', 'Oven1', 'Rice_Cooker1', 'Stove1', 'Microwave1', 'Refrigerator1', 'Microwave1', 'Oven1', 'Refrigerator1', 'RubbishBin1', 'Light1', 'RubbishBin1', 'Microwave1', 'DishWasher1', 'Microwave1', 'Toaster1', 'RubbishBin1', 'Refrigerator1', 'Toaster1', 'Toaster1', 'RubbishBin1', 'RubbishBin1', 'ExtractorFan1', 'Stove1', 'Rice_Cooker1', 'CounterDrawer1', 'CoffeeMachine1', 'Microwave1', 'Light1', 'Light1', 'Microwave1']\n",
      "['Light1', 'CounterDrawer1', 'RubbishBin1', 'Light1', 'Oven1', 'DishWasher1', 'Microwave1', 'Rice_Cooker1', 'CoffeeMachine1', 'CounterDrawer1', 'Toaster1', 'Microwave1', 'Microwave1', 'Refrigerator1', 'CoffeeMachine1', 'Toaster1', 'RubbishBin1', 'Refrigerator1', 'Light1', 'Refrigerator1', 'CoffeeMachine1', 'Microwave1', 'Oven1', 'Toaster1', 'RubbishBin1', 'Light1', 'ExtractorFan1', 'RubbishBin1', 'DishWasher1', 'Rice_Cooker1', 'Toaster1', 'Rice_Cooker1', 'Refrigerator1', 'Oven1', 'CounterDrawer1', 'Stove1', 'Refrigerator1', 'CounterDrawer1', 'Microwave1', 'Microwave1', 'Stove1', 'ExtractorFan1', 'Oven1', 'CoffeeMachine1', 'Rice_Cooker1', 'Microwave1', 'Stove1', 'ExtractorFan1', 'CoffeeMachine1', 'Light1', 'Light1', 'Rice_Cooker1', 'Stove1', 'RubbishBin1', 'Toaster1', 'CounterDrawer1', 'CoffeeMachine1', 'Stove1', 'ExtractorFan1', 'Light1', 'CoffeeMachine1', 'Light1', 'Rice_Cooker1', 'Light1', 'ExtractorFan1', 'Refrigerator1', 'Stove1', 'Oven1', 'CounterDrawer1', 'Refrigerator1', 'DishWasher1', 'CoffeeMachine1', 'Microwave1', 'Oven1', 'Rice_Cooker1', 'RubbishBin1', 'Toaster1', 'ExtractorFan1', 'DishWasher1', 'RubbishBin1', 'Rice_Cooker1', 'Light1', 'RubbishBin1', 'CounterDrawer1', 'Oven1', 'DishWasher1', 'Toaster1', 'Light1', 'DishWasher1', 'DishWasher1', 'Toaster1', 'ExtractorFan1', 'CoffeeMachine1', 'Refrigerator1', 'Toaster1', 'RubbishBin1', 'CounterDrawer1', 'Stove1', 'Refrigerator1', 'Rice_Cooker1', 'Oven1', 'Oven1', 'Toaster1', 'Rice_Cooker1', 'Rice_Cooker1', 'Toaster1', 'DishWasher1', 'ExtractorFan1', 'Microwave1', 'Stove1', 'DishWasher1', 'Stove1', 'Microwave1', 'Refrigerator1', 'CounterDrawer1', 'RubbishBin1', 'Refrigerator1', 'Toaster1', 'ExtractorFan1', 'CoffeeMachine1', 'Microwave1', 'DishWasher1']\n",
      "['DishWasher1', 'Toaster1', 'DishWasher1', 'CoffeeMachine1', 'Microwave1', 'Oven1', 'RubbishBin1', 'CounterDrawer1', 'Toaster1', 'Stove1', 'CounterDrawer1', 'Refrigerator1', 'DishWasher1', 'ExtractorFan1', 'Toaster1', 'Stove1', 'CounterDrawer1', 'Toaster1', 'CoffeeMachine1', 'Toaster1', 'ExtractorFan1', 'DishWasher1', 'Refrigerator1', 'Light1', 'CoffeeMachine1', 'RubbishBin1', 'Oven1', 'Microwave1', 'Microwave1', 'CoffeeMachine1', 'Refrigerator1', 'Refrigerator1', 'DishWasher1', 'DishWasher1', 'Refrigerator1', 'ExtractorFan1', 'DishWasher1', 'RubbishBin1', 'Oven1', 'Refrigerator1', 'Toaster1', 'Microwave1', 'CoffeeMachine1', 'ExtractorFan1', 'Microwave1', 'Toaster1', 'Oven1', 'Light1', 'CounterDrawer1', 'Oven1', 'CoffeeMachine1', 'RubbishBin1', 'ExtractorFan1', 'Oven1', 'Refrigerator1', 'ExtractorFan1', 'Refrigerator1', 'DishWasher1', 'Light1', 'ExtractorFan1', 'Stove1', 'Microwave1', 'Refrigerator1', 'CounterDrawer1', 'CoffeeMachine1', 'Rice_Cooker1', 'Oven1', 'Refrigerator1', 'Light1', 'Microwave1', 'Microwave1', 'ExtractorFan1', 'Toaster1', 'Stove1', 'Oven1', 'DishWasher1', 'CounterDrawer1', 'CounterDrawer1', 'Rice_Cooker1', 'Microwave1', 'Toaster1', 'DishWasher1', 'CounterDrawer1', 'Rice_Cooker1', 'Toaster1', 'Microwave1', 'Rice_Cooker1', 'Stove1', 'CoffeeMachine1', 'Oven1', 'Rice_Cooker1', 'DishWasher1', 'Light1', 'Stove1', 'Microwave1', 'CoffeeMachine1', 'CoffeeMachine1', 'CounterDrawer1', 'Toaster1', 'Stove1', 'Rice_Cooker1', 'Refrigerator1', 'Microwave1', 'Toaster1', 'CounterDrawer1', 'Oven1', 'RubbishBin1', 'Light1', 'RubbishBin1', 'RubbishBin1', 'Rice_Cooker1', 'DishWasher1', 'Stove1', 'Rice_Cooker1', 'Rice_Cooker1', 'CoffeeMachine1', 'Light1', 'ExtractorFan1', 'Light1', 'CounterDrawer1', 'CoffeeMachine1', 'ExtractorFan1']\n",
      "['turn_on', 'turn_off', 'turn_off', 'close', 'open', 'open', 'close', 'turn_off', 'turn_off', 'turn_off', 'turn_off', 'turn_off', 'turn_on', 'close', 'close', 'turn_on', 'open', 'open', 'turn_off', 'turn_on', 'open', 'turn_off', 'close', 'close', 'close', 'close', 'turn_off', 'turn_on', 'open', 'open', 'turn_on', 'turn_on', 'turn_on', 'close', 'close', 'turn_off', 'turn_on', 'turn_off', 'close', 'open', 'turn_on', 'turn_off', 'turn_on', 'close', 'turn_on', 'turn_off', 'turn_off', 'turn_off', 'turn_on', 'open', 'turn_off', 'turn_on', 'turn_on', 'open', 'turn_off', 'turn_on', 'close', 'turn_off', 'turn_on', 'close', 'turn_on', 'start', 'start', 'turn_on', 'close', 'turn_on', 'close', 'open', 'turn_on', 'close', 'close', 'turn_on', 'start', 'turn_off', 'stop', 'turn_off', 'turn_off', 'turn_off', 'turn_on', 'open', 'open', 'turn_off', 'open', 'turn_off', 'turn_on', 'stop', 'turn_off', 'turn_off', 'turn_on', 'turn_off', 'turn_off', 'open', 'close', 'close', 'turn_on', 'close', 'open', 'close', 'turn_on', 'turn_on', 'close', 'close', 'turn_on', 'close', 'turn_on', 'turn_off', 'close', 'turn_on', 'turn_on', 'open', 'turn_off', 'turn_on', 'close', 'turn_off', 'turn_off', 'close', 'open', 'turn_off', 'start', 'close', 'stop', 'start']\n",
      "['None', 'CounterDrawer', 'Toaster', 'None', 'None', 'DishWasher', 'None', 'CounterDrawer', 'Rice_Cooker', 'CounterDrawer', 'DishWasher', 'Stove', 'DishWasher', 'Microwave', 'None', 'DishWasher', 'RubbishBin', 'None', 'Light', 'Refrigerator', 'ExtractorFan', 'Microwave', 'None', 'Rice_Cooker', 'CoffeeMachine', 'Light', 'Stove', 'RubbishBin', 'DishWasher', 'Toaster', 'None', 'None', 'Rice_Cooker', 'DishWasher', 'Stove', 'None', 'Refrigerator', 'RubbishBin', 'None', 'Refrigerator', 'Stove', 'Light', 'CounterDrawer', 'None', 'Rice_Cooker', 'None', 'Oven', 'ExtractorFan', 'CounterDrawer', 'Refrigerator', 'Toaster', 'Rice_Cooker', 'ExtractorFan', 'None', 'Toaster', 'CounterDrawer', 'Toaster', 'RubbishBin', 'ExtractorFan', 'Light', 'Stove', 'Microwave', 'Refrigerator', 'None', 'CoffeeMachine', 'ExtractorFan', 'Stove', 'None', 'Light', 'Microwave', 'DishWasher', 'ExtractorFan', 'Toaster', 'Oven', 'Oven', 'RubbishBin', 'Toaster', 'CounterDrawer', 'Oven', 'Microwave', 'None', 'None', 'CounterDrawer', 'CoffeeMachine', 'CounterDrawer', 'None', 'Toaster', 'DishWasher', 'DishWasher', 'Oven', 'Rice_Cooker', 'ExtractorFan', 'Light', 'Stove', 'Toaster', 'None', 'None', 'Stove', 'Refrigerator', 'None', 'Rice_Cooker', 'None', 'Microwave', 'Toaster', 'Rice_Cooker', 'Microwave', 'RubbishBin', 'None', 'Microwave', 'Toaster', 'Rice_Cooker', 'RubbishBin', 'None', 'Refrigerator', 'None', 'RubbishBin', 'Refrigerator', 'None', 'ExtractorFan', 'None', 'Microwave', 'Microwave']\n",
      "['Light1', 'CounterDrawer1', 'Toaster1', 'Refrigerator1', 'Microwave1', 'DishWasher1', 'Microwave1', 'CounterDrawer1', 'Rice_Cooker1', 'CounterDrawer1', 'DishWasher1', 'Stove1', 'DishWasher1', 'Microwave1', 'CoffeeMachine1', 'DishWasher1', 'RubbishBin1', 'Oven1', 'Light1', 'Refrigerator1', 'ExtractorFan1', 'Microwave1', 'Refrigerator1', 'Rice_Cooker1', 'CoffeeMachine1', 'Light1', 'Stove1', 'RubbishBin1', 'DishWasher1', 'Toaster1', 'Toaster1', 'Refrigerator1', 'Rice_Cooker1', 'DishWasher1', 'Stove1', 'CoffeeMachine1', 'Refrigerator1', 'RubbishBin1', 'Oven1', 'Refrigerator1', 'Stove1', 'Light1', 'CounterDrawer1', 'CoffeeMachine1', 'Rice_Cooker1', 'CoffeeMachine1', 'Oven1', 'ExtractorFan1', 'CounterDrawer1', 'Refrigerator1', 'Toaster1', 'Rice_Cooker1', 'ExtractorFan1', 'Oven1', 'Toaster1', 'CounterDrawer1', 'Toaster1', 'RubbishBin1', 'ExtractorFan1', 'Light1', 'Stove1', 'Microwave1', 'Refrigerator1', 'Light1', 'CoffeeMachine1', 'ExtractorFan1', 'Stove1', 'Oven1', 'Light1', 'Microwave1', 'DishWasher1', 'ExtractorFan1', 'Toaster1', 'Oven1', 'Oven1', 'RubbishBin1', 'Toaster1', 'CounterDrawer1', 'Oven1', 'Microwave1', 'CoffeeMachine1', 'Light1', 'CounterDrawer1', 'CoffeeMachine1', 'CounterDrawer1', 'Microwave1', 'Toaster1', 'DishWasher1', 'DishWasher1', 'Oven1', 'Rice_Cooker1', 'ExtractorFan1', 'Light1', 'Stove1', 'Toaster1', 'Microwave1', 'Refrigerator1', 'Stove1', 'Refrigerator1', 'Stove1', 'Rice_Cooker1', 'Refrigerator1', 'Microwave1', 'Toaster1', 'Rice_Cooker1', 'Microwave1', 'RubbishBin1', 'ExtractorFan1', 'Microwave1', 'Toaster1', 'Rice_Cooker1', 'RubbishBin1', 'Microwave1', 'Refrigerator1', 'CounterDrawer1', 'RubbishBin1', 'Refrigerator1', 'CoffeeMachine1', 'ExtractorFan1', 'CoffeeMachine1', 'Microwave1', 'Microwave1']\n"
     ]
    }
   ],
   "source": [
    "import random\n",
    "import copy\n",
    "\n",
    "\n",
    "# In[73]:\n",
    "\n",
    "\n",
    "object_list = [\"CounterDrawer\",\"RubbishBin\",\"Toaster\",\"Microwave\",\"Stove\",\"Light\",\"DishWasher\",\"Refrigerator\",\"Rice_Cooker\",\"Oven\",\"CoffeeMachine\",\"ExtractorFan\"]\n",
    "instance_number=1\n",
    "intent_dict={\n",
    "    \"Microwave\":[\"open\", \"close\", \"start\", \"stop\"],\n",
    "    \n",
    "    \"Light\":[\"turn_on\", \"turn_off\"], \n",
    "    \n",
    "    \"Oven\":[\"open\", \"close\", \"turn_on\", \"turn_off\"], \n",
    "    \n",
    "    \"Rice_Cooker\":[\"open\", \"close\", \"start\", \"stop\"], \n",
    "    \n",
    "    \"Refrigerator\":[\"open\", \"close\", \"turn_on\", \"turn_off\"], \n",
    "    \n",
    "    \"Stove\":[\"turn_on\", \"turn_off\"],\n",
    "    \n",
    "    \"CounterDrawer\":[\"turn_on\", \"turn_off\"],\n",
    "    \n",
    "    \"Toaster\":[\"turn_on\", \"turn_off\"],\n",
    "    \n",
    "    \"DishWasher\":[\"open\", \"close\", \"turn_on\", \"turn_off\"],\n",
    "   \n",
    "    \"RubbishBin\":[\"open\", \"close\"],\n",
    "\n",
    "    \"CoffeeMachine\":[\"open\", \"close\", \"turn_on\", \"turn_off\"],\n",
    "\n",
    "    \"ExtractorFan\":[\"turn_on\", \"turn_off\"]\n",
    "\n",
    "}\n",
    "intent_list=[]\n",
    "entity_list=[]\n",
    "result_list=[]\n",
    "# print(intent_dict)\n",
    "\n",
    "\n",
    "# In[74]:\n",
    "\n",
    "\n",
    "input1=[]\n",
    "input2=[]\n",
    "input3=[]\n",
    "for item in object_list:\n",
    "    for i in range(instance_number):\n",
    "        input1.append(item+str(i+1))\n",
    "        input2.append(item+str(i+1))\n",
    "        input3.append(item+str(i+1))\n",
    "        input1.append(item+str(i+1))\n",
    "        input2.append(item+str(i+1))\n",
    "        input3.append(item+str(i+1))\n",
    "        input1.append(item+str(i+1))\n",
    "        input2.append(item+str(i+1))\n",
    "        input3.append(item+str(i+1))\n",
    "        input1.append(item+str(i+1))\n",
    "        input2.append(item+str(i+1))\n",
    "        input3.append(item+str(i+1))\n",
    "        input1.append(item+str(i+1))\n",
    "        input2.append(item+str(i+1))\n",
    "        input3.append(item+str(i+1))\n",
    "        input1.append(item+str(i+1))\n",
    "        input2.append(item+str(i+1))\n",
    "        input3.append(item+str(i+1))\n",
    "        input1.append(item+str(i+1))\n",
    "        input2.append(item+str(i+1))\n",
    "        input3.append(item+str(i+1))\n",
    "        input1.append(item+str(i+1))\n",
    "        input2.append(item+str(i+1))\n",
    "        input3.append(item+str(i+1))\n",
    "        input1.append(item+str(i+1))\n",
    "        input2.append(item+str(i+1))\n",
    "        input3.append(item+str(i+1))\n",
    "        input1.append(item+str(i+1))\n",
    "        input2.append(item+str(i+1))\n",
    "        input3.append(item+str(i+1))\n",
    "        input1.append(item+str(i+1))\n",
    "        input2.append(item+str(i+1))\n",
    "        input3.append(item+str(i+1))\n",
    "        input1.append(item+str(i+1))\n",
    "        input2.append(item+str(i+1))\n",
    "        input3.append(item+str(i+1))\n",
    "random.shuffle(input1)\n",
    "random.shuffle(input2)\n",
    "random.shuffle(input3)\n",
    "# print(input1)\n",
    "# print(input2)\n",
    "# print(input3)\n",
    "\n",
    "\n",
    "# In[75]:\n",
    "\n",
    "\n",
    "gaze_list_temp=[]\n",
    "for item in zip(input1, input2, input3):\n",
    "    if len(item) == len(set(item)):\n",
    "        gaze_list_temp.append(item)\n",
    "# print(gaze_list_temp)\n",
    "\n",
    "\n",
    "# In[76]:\n",
    "\n",
    "\n",
    "top_gaze_1=[]\n",
    "top_gaze_2=[]\n",
    "top_gaze_3=[]\n",
    "for item in gaze_list_temp:\n",
    "    top_gaze_1.append(item[0])\n",
    "    top_gaze_2.append(item[1])\n",
    "    top_gaze_3.append(item[2])\n",
    "   \n",
    "print(top_gaze_1)\n",
    "print(top_gaze_2)\n",
    "print(top_gaze_3)\n",
    "\n",
    "\n",
    "\n",
    "# In[78]:\n",
    "\n",
    "\n",
    "temp=[list(item) for item in gaze_list_temp]\n",
    "# print(temp)\n",
    "for item in temp:\n",
    "    intent_temp=random.choice(intent_dict[random.choice(item)[:-1]])\n",
    "    intent_list.append(intent_temp)\n",
    "    item.append(\"None\")\n",
    "    entity_temp=random.choice(item)\n",
    "    \n",
    "\n",
    "    if entity_temp!=\"None\":\n",
    "        entity_list.append(entity_temp[:-1])\n",
    "        result_temp=[]\n",
    "        for item_temp in item:\n",
    "            if item_temp==entity_temp:\n",
    "                result_temp.append(item_temp)\n",
    "        result_list.append(random.choice( result_temp))\n",
    "    else:\n",
    "        entity_list.append(entity_temp)\n",
    "        result_temp=[]\n",
    "        for item_temp in item:\n",
    "            if item_temp[:-1] in intent_dict.keys():\n",
    "                for item_temp_dict in intent_dict[item_temp[:-1]]:\n",
    "                    if item_temp_dict == intent_temp:\n",
    "                        result_temp.append(item_temp)\n",
    "    \n",
    "        result_list.append(random.choice(result_temp))\n",
    "    \n",
    "#print(temp)\n",
    "print(intent_list)\n",
    "print(entity_list)\n",
    "print(result_list)\n"
   ]
  },
  {
   "cell_type": "code",
   "execution_count": 178,
   "metadata": {},
   "outputs": [
    {
     "name": "stdout",
     "output_type": "stream",
     "text": [
      "122\n",
      "85.39999999999999\n",
      "122\n",
      "85\n",
      "37\n"
     ]
    }
   ],
   "source": [
    "print(len(result_list))\n",
    "print(0.7*len(result_list))\n",
    "whole=len(result_list)\n",
    "tran_len=int(0.7*whole)\n",
    "infer_len=whole-tran_len\n",
    "print(whole)\n",
    "print(tran_len)\n",
    "print(infer_len)"
   ]
  },
  {
   "cell_type": "code",
   "execution_count": 179,
   "metadata": {},
   "outputs": [
    {
     "name": "stdout",
     "output_type": "stream",
     "text": [
      "[ 3  6 11  7  8  7 11  7  8  5  2 10  1  5  9  2  7  6  3 10  6  6  1  8\n",
      "  3  2 10  0  7 11  1 10  8  4 10  0  0  3  3  0  1  4  1  5 10  0  3  6\n",
      " 11  7 11  2 11 11  0  4 11  9  6  6  4  3  0  9  2  3  7  4  0  2  1  2\n",
      "  8  5  7  6  4  6  6 10  0 10  2  0  1 10  3  2  1  1  4  8  6  8 10  5\n",
      "  7  5  6  7  9  4  9  5  2  5 11  9  7 11 11  9  9  3 10  8  1  0  5  4\n",
      "  4  5]\n",
      "[5 4 4 0 1 1 0 4 4 4 4 4 5 0 0 5 1 1 4 5 1 4 0 0 0 0 4 5 1 1 5 5 5 0 0 4 5\n",
      " 4 0 1 5 4 5 0 5 4 4 4 5 1 4 5 5 1 4 5 0 4 5 0 5 2 2 5 0 5 0 1 5 0 0 5 2 4\n",
      " 3 4 4 4 5 1 1 4 1 4 5 3 4 4 5 4 4 1 0 0 5 0 1 0 5 5 0 0 5 0 5 4 0 5 5 1 4\n",
      " 5 0 4 4 0 1 4 2 0 3 2]\n",
      "[ 6  1 12  6  6  2  6  1  9  1  2 11  2  5  6  2 10  6  4  8  3  5  6  9\n",
      "  0  4 11 10  2 12  6  6  9  2 11  6  8 10  6  8 11  4  1  6  9  6  7  3\n",
      "  1  8 12  9  3  6 12  1 12 10  3  4 11  5  8  6  0  3 11  6  4  5  2  3\n",
      " 12  7  7 10 12  1  7  5  6  6  1  0  1  6 12  2  2  7  9  3  4 11 12  6\n",
      "  6 11  8  6  9  6  5 12  9  5 10  6  5 12  9 10  6  8  6 10  8  6  3  6\n",
      "  5  5]\n",
      "[ 4  1 11  7  5  2  5  1  8  1  2 10  2  5  0  2  9  6  4  7  3  5  7  8\n",
      "  0  4 10  9  2 11 11  7  8  2 10  0  7  9  6  7 10  4  1  0  8  0  6  3\n",
      "  1  7 11  8  3  6 11  1 11  9  3  4 10  5  7  4  0  3 10  6  4  5  2  3\n",
      " 11  6  6  9 11  1  6  5  0  4  1  0  1  5 11  2  2  6  8  3  4 10 11  5\n",
      "  7 10  7 10  8  7  5 11  8  5  9  3  5 11  8  9  5  7  1  9  7  0  3  0\n",
      "  5  5]\n",
      "[[3, 4, 2, 5, 6], [6, 1, 11, 4, 1], [11, 9, 2, 4, 12], [7, 4, 0, 0, 6], [8, 6, 5, 1, 6], [7, 2, 6, 1, 2], [11, 5, 9, 0, 6], [7, 8, 1, 4, 1], [8, 0, 11, 4, 9], [5, 1, 10, 4, 1], [2, 11, 1, 4, 2], [10, 5, 7, 4, 11], [1, 5, 2, 5, 2], [5, 7, 3, 0, 5], [9, 0, 11, 0, 6], [2, 11, 10, 5, 2], [7, 9, 1, 1, 10], [6, 7, 11, 1, 6], [3, 4, 0, 4, 4], [10, 7, 11, 5, 8], [6, 0, 3, 1, 3], [6, 5, 2, 4, 5], [1, 6, 7, 0, 6], [8, 11, 4, 0, 9], [3, 9, 0, 0, 0], [2, 4, 9, 0, 4], [10, 3, 6, 4, 11], [0, 9, 5, 5, 10], [7, 2, 5, 1, 2], [11, 8, 0, 1, 12], [1, 11, 7, 5, 6], [10, 8, 7, 5, 6], [8, 7, 2, 5, 9], [4, 6, 2, 0, 2], [10, 1, 7, 0, 11], [0, 10, 3, 4, 6], [0, 7, 2, 5, 8], [3, 1, 9, 4, 10], [3, 5, 6, 0, 6], [0, 5, 7, 1, 8], [1, 10, 11, 5, 11], [4, 3, 5, 4, 4], [1, 6, 0, 5, 1], [5, 0, 3, 0, 6], [10, 8, 5, 5, 9], [0, 5, 11, 4, 6], [3, 10, 6, 4, 7], [6, 3, 4, 4, 3], [11, 0, 1, 5, 1], [7, 4, 6, 1, 8], [11, 4, 0, 4, 12], [2, 8, 9, 5, 9], [11, 10, 3, 5, 3], [11, 9, 6, 1, 6], [0, 11, 7, 4, 12], [4, 1, 3, 5, 1], [11, 0, 7, 0, 12], [9, 10, 2, 4, 10], [6, 3, 4, 5, 3], [6, 4, 3, 0, 4], [4, 0, 10, 5, 11], [3, 4, 5, 2, 5], [0, 8, 7, 2, 8], [9, 4, 1, 5, 6], [2, 3, 0, 0, 0], [3, 7, 8, 5, 3], [7, 10, 6, 0, 11], [4, 6, 7, 1, 6], [0, 1, 4, 5, 4], [2, 7, 5, 0, 5], [1, 2, 5, 0, 2], [2, 0, 3, 5, 3], [8, 5, 11, 2, 12], [5, 6, 10, 4, 7], [7, 8, 6, 3, 7], [6, 9, 2, 4, 10], [4, 11, 1, 4, 12], [6, 3, 1, 4, 1], [6, 2, 8, 5, 7], [10, 9, 5, 1, 5], [0, 8, 11, 1, 6], [10, 4, 2, 4, 6], [2, 9, 1, 1, 1], [0, 1, 8, 4, 0], [1, 6, 11, 5, 1], [10, 2, 5, 3, 6], [3, 11, 8, 4, 12], [2, 4, 10, 4, 2], [1, 2, 0, 5, 2], [1, 2, 6, 4, 7], [4, 11, 8, 4, 9], [8, 3, 2, 1, 3], [6, 0, 4, 0, 4], [8, 7, 10, 0, 11], [10, 11, 5, 5, 12], [5, 9, 0, 0, 6], [7, 1, 0, 1, 6], [5, 10, 1, 0, 11], [6, 7, 11, 5, 8], [7, 8, 10, 5, 6], [9, 6, 8, 0, 9], [4, 6, 7, 0, 6], [9, 11, 5, 5, 5], [5, 8, 11, 0, 12], [2, 8, 1, 5, 9], [5, 11, 6, 4, 5], [11, 2, 9, 0, 10], [9, 3, 4, 5, 6], [7, 5, 9, 5, 5], [11, 10, 9, 1, 12], [11, 2, 8, 4, 9], [9, 10, 2, 5, 10], [9, 5, 10, 0, 6], [3, 7, 8, 4, 8], [10, 1, 8, 4, 6], [8, 9, 0, 0, 10], [1, 7, 4, 1, 8], [0, 11, 3, 4, 6], [5, 3, 4, 2, 3], [4, 0, 1, 0, 6], [4, 5, 0, 3, 5], [5, 2, 3, 2, 5]]\n"
     ]
    }
   ],
   "source": [
    "from sklearn import preprocessing\n",
    "from sklearn.naive_bayes import GaussianNB\n",
    "\n",
    "# t_top_gaze_1= top_gaze_1[0:tran_len]\n",
    "# t_top_gaze_2= top_gaze_2[0:tran_len]\n",
    "# t_top_gaze_3= top_gaze_3[0:tran_len]\n",
    "# in_top_gaze_1=top_gaze_1[tran_len:whole]\n",
    "# in_top_gaze_2=top_gaze_2[tran_len:whole]\n",
    "# in_top_gaze_3=top_gaze_3[tran_len:whole]\n",
    "# t_intent_list=intent_list[0:tran_len]\n",
    "# in_intent_list=entity_list[tran_len:whole]\n",
    "\n",
    "\n",
    "# t_entity_list=entity_list[0:tran_len]\n",
    "# in_entent_list=entity_list[tran_len:whole]\n",
    "\n",
    "# t_result_list=result_list[0:tran_len]\n",
    "# in_result_list=result_list[tran_len:whole]\n",
    "\n",
    "#creating labelEncoder\n",
    "le = preprocessing.LabelEncoder()\n",
    "# Converting string labels into numbers.\n",
    "top_first_gaze_object_encoded=le.fit_transform(top_gaze_1)\n",
    "\n",
    "top_second_gaze_object_encoded=le.fit_transform(top_gaze_2)\n",
    "\n",
    "top_third_gaze_object_encoded=le.fit_transform(top_gaze_3)\n",
    "print(top_first_gaze_object_encoded)\n",
    "\n",
    "# top_second_gaze_object_encoded = [item+20 for item in top_second_gaze_object_encoded]\n",
    "# print(top_second_gaze_object_encoded)\n",
    "# top_third_gaze_object_encoded = [item+30 for item in top_third_gaze_object_encoded]\n",
    "# print(top_third_gaze_object_encoded)\n",
    "# In[67]:\n",
    "\n",
    "\n",
    "# Converting string labels into numbers\n",
    "extracted_intent_encoded=le.fit_transform(intent_list)\n",
    "extracted_entity_encoded=le.fit_transform(entity_list)\n",
    "\n",
    "\n",
    "label=le.fit_transform(result_list)\n",
    "print (extracted_intent_encoded)\n",
    "print (extracted_entity_encoded)\n",
    "print(label)\n",
    "\n",
    "\n",
    "# In[68]:\n",
    "\n",
    "\n",
    "features=[list(item) for item in zip(top_first_gaze_object_encoded,top_second_gaze_object_encoded, top_third_gaze_object_encoded ,extracted_intent_encoded, extracted_entity_encoded)]\n",
    "\n",
    "print(list(features))\n"
   ]
  },
  {
   "cell_type": "code",
   "execution_count": 180,
   "metadata": {},
   "outputs": [
    {
     "name": "stdout",
     "output_type": "stream",
     "text": [
      "85\n",
      "[ 4  1 11  7  5  2  5  1  8  1  2 10  2  5  0  2  9  6  4  7  3  5  7  8\n",
      "  0  4 10  9  2 11 11  7  8  2 10  0  7  9  6  7 10  4  1  0  8  0  6  3\n",
      "  1  7 11  8  3  6 11  1 11  9  3  4 10  5  7  4  0  3 10  6  4  5  2  3\n",
      " 11  6  6  9 11  1  6  5  0  4  1  0  1]\n",
      "{4: 'Light1', 1: 'CounterDrawer1', 11: 'Toaster1', 7: 'Refrigerator1', 5: 'Microwave1', 2: 'DishWasher1', 8: 'Rice_Cooker1', 10: 'Stove1', 0: 'CoffeeMachine1', 9: 'RubbishBin1', 6: 'Oven1', 3: 'ExtractorFan1'}\n"
     ]
    }
   ],
   "source": [
    "print(tran_len)\n",
    "t_features=features[0:tran_len]\n",
    "v_features=features[tran_len:whole]\n",
    "\n",
    "t_labels=label[0:tran_len]\n",
    "v_labels=label[tran_len:whole]\n",
    "print(t_labels)\n",
    "label_dict={}\n",
    "\n",
    "for i in range(whole):\n",
    "    label_dict[label[i]]=result_list[i]\n",
    "print(label_dict)"
   ]
  },
  {
   "cell_type": "code",
   "execution_count": 181,
   "metadata": {},
   "outputs": [
    {
     "data": {
      "text/plain": [
       "GaussianNB()"
      ]
     },
     "execution_count": 181,
     "metadata": {},
     "output_type": "execute_result"
    }
   ],
   "source": [
    "\n",
    "\n",
    "\n",
    "# In[69]:\n",
    "\n",
    "\n",
    "#Create a Gaussian Classifier\n",
    "model = GaussianNB()\n",
    "# x = np.array(list(features))\n",
    "# y= np.array(label)\n",
    "# Train the model using the training sets\n",
    "model.fit(t_features,t_labels)\n",
    "\n",
    "\n",
    "\n",
    "\n",
    "# In[ ]:"
   ]
  },
  {
   "cell_type": "code",
   "execution_count": 182,
   "metadata": {},
   "outputs": [
    {
     "name": "stdout",
     "output_type": "stream",
     "text": [
      "[4, 1, 11, 4, 5, 2, 6, 1, 8, 1, 2, 10, 2, 5, 0, 2, 9, 6, 4, 7, 3, 4, 6, 8, 0, 0, 10, 9, 2, 11, 6, 6, 8, 2, 10, 0, 7, 9, 5, 7, 10, 4, 1, 0, 8, 7, 6, 3, 1, 7, 11, 8, 3, 5, 11, 1, 11, 9, 3, 4, 10, 4, 7, 4, 0, 3, 10, 6, 4, 5, 2, 3, 11, 6, 6, 9, 11, 1, 6, 5, 7, 4, 1, 0, 1, 4, 11, 2, 2, 6, 8, 3, 0, 10, 11, 5, 0, 10, 7, 6, 8, 6, 0, 11, 8, 0, 9, 4, 4, 11, 8, 9, 6, 7, 6, 9, 7, 0, 3, 0, 4, 4]\n"
     ]
    }
   ],
   "source": [
    "#Predict Output\n",
    "temp_final=[]\n",
    "for item in features:\n",
    "    predicted= model.predict([item]) # 0:Overcast, 2:Mild\n",
    "    temp_final.append(predicted[0])\n",
    "print(temp_final)"
   ]
  },
  {
   "cell_type": "code",
   "execution_count": 183,
   "metadata": {},
   "outputs": [
    {
     "name": "stdout",
     "output_type": "stream",
     "text": [
      "[[2, 11, 1, 4, 2], [10, 3, 6, 4, 11], [7, 8, 6, 3, 7], [11, 2, 8, 4, 9], [5, 11, 6, 4, 5], [2, 4, 10, 4, 2], [9, 3, 4, 5, 6], [4, 0, 1, 0, 6], [0, 8, 11, 1, 6], [0, 5, 7, 1, 8], [2, 9, 1, 1, 1], [9, 11, 5, 5, 5], [8, 7, 10, 0, 11], [3, 1, 9, 4, 10], [6, 3, 1, 4, 1], [7, 2, 5, 1, 2], [9, 0, 11, 0, 6], [4, 11, 8, 4, 9], [8, 3, 2, 1, 3], [0, 1, 4, 5, 4], [6, 7, 11, 1, 6], [3, 4, 2, 5, 6], [10, 9, 5, 1, 5], [6, 2, 8, 5, 7], [3, 9, 0, 0, 0], [5, 0, 3, 0, 6], [4, 1, 3, 5, 1], [2, 4, 9, 0, 4], [7, 4, 6, 1, 8], [7, 8, 10, 5, 6], [5, 1, 10, 4, 1], [0, 7, 2, 5, 8], [1, 10, 11, 5, 11], [0, 1, 8, 4, 0], [10, 11, 5, 5, 12], [10, 8, 5, 5, 9], [8, 9, 0, 0, 10], [7, 5, 9, 5, 5], [8, 0, 11, 4, 9], [3, 7, 8, 4, 8], [5, 2, 3, 2, 5], [1, 7, 4, 1, 8], [4, 3, 5, 4, 4], [11, 8, 0, 1, 12], [6, 5, 2, 4, 5], [0, 5, 11, 4, 6], [1, 5, 2, 5, 2], [10, 8, 7, 5, 6], [11, 9, 2, 4, 12], [3, 11, 8, 4, 12], [6, 3, 4, 5, 3], [6, 0, 4, 0, 4], [2, 7, 5, 0, 5], [3, 7, 8, 5, 3], [3, 5, 6, 0, 6], [4, 6, 7, 0, 6], [7, 1, 0, 1, 6], [10, 5, 7, 4, 11], [4, 0, 10, 5, 11], [5, 3, 4, 2, 3], [7, 8, 1, 4, 1], [11, 0, 1, 5, 1], [8, 5, 11, 2, 12], [11, 9, 6, 1, 6], [11, 10, 3, 5, 3], [2, 3, 0, 0, 0], [1, 6, 7, 0, 6], [10, 2, 5, 3, 6], [9, 6, 8, 0, 9], [0, 8, 7, 2, 8], [7, 2, 6, 1, 2], [7, 9, 1, 1, 10], [2, 8, 9, 5, 9], [9, 10, 2, 4, 10], [1, 6, 0, 5, 1], [9, 4, 1, 5, 6], [8, 6, 5, 1, 6], [4, 6, 2, 0, 2], [6, 9, 2, 4, 10], [2, 11, 10, 5, 2], [9, 5, 10, 0, 6], [5, 7, 3, 0, 5], [4, 5, 0, 3, 5], [0, 11, 3, 4, 6], [11, 5, 9, 0, 6]]\n"
     ]
    }
   ],
   "source": [
    "from sklearn.model_selection import train_test_split\n",
    "\n",
    "# Split dataset into training set and test set\n",
    "X_train, X_test, y_train, y_test = train_test_split(features, label, test_size=0.3,random_state=109) # 70% training and 30% test\n",
    "print(X_train)"
   ]
  },
  {
   "cell_type": "code",
   "execution_count": 184,
   "metadata": {},
   "outputs": [],
   "source": [
    "from sklearn.naive_bayes import GaussianNB\n",
    "\n",
    "\n",
    "gb_model = GaussianNB()\n",
    "\n",
    "\n",
    "gb_model.fit(X_train, y_train)\n",
    "\n",
    "\n",
    "y_pred = gb_model.predict(X_test)"
   ]
  },
  {
   "cell_type": "code",
   "execution_count": 185,
   "metadata": {},
   "outputs": [
    {
     "name": "stdout",
     "output_type": "stream",
     "text": [
      "Accuracy: 0.7027027027027027\n"
     ]
    }
   ],
   "source": [
    "from sklearn import metrics\n",
    "\n",
    "\n",
    "print(\"Accuracy:\",metrics.accuracy_score(y_test, y_pred))"
   ]
  },
  {
   "cell_type": "code",
   "execution_count": null,
   "metadata": {},
   "outputs": [],
   "source": []
  },
  {
   "cell_type": "code",
   "execution_count": null,
   "metadata": {},
   "outputs": [],
   "source": []
  }
 ],
 "metadata": {
  "kernelspec": {
   "display_name": "Python 3",
   "language": "python",
   "name": "python3"
  },
  "language_info": {
   "codemirror_mode": {
    "name": "ipython",
    "version": 3
   },
   "file_extension": ".py",
   "mimetype": "text/x-python",
   "name": "python",
   "nbconvert_exporter": "python",
   "pygments_lexer": "ipython3",
   "version": "3.8.5"
  }
 },
 "nbformat": 4,
 "nbformat_minor": 4
}
