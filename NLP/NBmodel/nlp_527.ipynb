{
 "cells": [
  {
   "cell_type": "code",
   "execution_count": 64,
   "metadata": {},
   "outputs": [],
   "source": [
    "from sklearn import preprocessing\n",
    "from sklearn.naive_bayes import GaussianNB\n"
   ]
  },
  {
   "cell_type": "code",
   "execution_count": 65,
   "metadata": {},
   "outputs": [],
   "source": [
    "\n",
    "top_first_gaze_object=['Microwave1','Oven1',\"Oven1 \"]\n",
    "top_second_gaze_object=['Microwave2','Oven2', \"Oven2\"]\n",
    "top_third_gaze_object=['Oven1','Microwave1', \"Microwave2\"]\n",
    "extracted_intent=['Open','Open',\"turn on\"]\n",
    "\n",
    "extracted_entity =['Microwave','Oven1', \"none\"]\n",
    "\n",
    "result_action=[\"Microwave1\", \"Oven1\", \"Oven1\" ]"
   ]
  },
  {
   "cell_type": "code",
   "execution_count": 66,
   "metadata": {},
   "outputs": [],
   "source": [
    "\n",
    "#creating labelEncoder\n",
    "le = preprocessing.LabelEncoder()\n",
    "# Converting string labels into numbers.\n",
    "top_first_gaze_object_encoded=le.fit_transform(top_first_gaze_object)\n",
    "top_second_gaze_object_encoded=le.fit_transform(top_second_gaze_object)\n",
    "top_third_gaze_object_encoded=le.fit_transform(top_third_gaze_object)\n"
   ]
  },
  {
   "cell_type": "code",
   "execution_count": 67,
   "metadata": {},
   "outputs": [
    {
     "name": "stdout",
     "output_type": "stream",
     "text": [
      "[0 0 1]\n",
      "[0 1 2]\n",
      "[0 1 1]\n"
     ]
    }
   ],
   "source": [
    "# Converting string labels into numbers\n",
    "extracted_intent_encoded=le.fit_transform(extracted_intent)\n",
    "extracted_entity_encoded=le.fit_transform(extracted_entity)\n",
    "\n",
    "\n",
    "label=le.fit_transform(result_action)\n",
    "print (extracted_intent_encoded)\n",
    "print (extracted_entity_encoded)\n",
    "print(label)"
   ]
  },
  {
   "cell_type": "code",
   "execution_count": 68,
   "metadata": {},
   "outputs": [
    {
     "name": "stdout",
     "output_type": "stream",
     "text": [
      "[[0, 0, 2, 0, 0], [1, 1, 0, 0, 1], [2, 1, 1, 1, 2]]\n"
     ]
    }
   ],
   "source": [
    "features=[list(item) for item in zip(top_first_gaze_object_encoded,top_second_gaze_object_encoded, top_third_gaze_object_encoded ,extracted_intent_encoded, extracted_entity_encoded)]\n",
    "\n",
    "print(list(features))"
   ]
  },
  {
   "cell_type": "code",
   "execution_count": 69,
   "metadata": {},
   "outputs": [
    {
     "name": "stdout",
     "output_type": "stream",
     "text": [
      "[0]\n"
     ]
    }
   ],
   "source": [
    "#Create a Gaussian Classifier\n",
    "model = GaussianNB()\n",
    "# x = np.array(list(features))\n",
    "# y= np.array(label)\n",
    "# Train the model using the training sets\n",
    "model.fit(features,label)\n",
    "\n",
    "#Predict Output\n",
    "predicted= model.predict([[0,0,2, 0, 0]]) # 0:Overcast, 2:Mild\n",
    "print( predicted)"
   ]
  },
  {
   "cell_type": "code",
   "execution_count": null,
   "metadata": {},
   "outputs": [],
   "source": []
  },
  {
   "cell_type": "code",
   "execution_count": null,
   "metadata": {},
   "outputs": [],
   "source": []
  },
  {
   "cell_type": "code",
   "execution_count": null,
   "metadata": {},
   "outputs": [],
   "source": []
  },
  {
   "cell_type": "code",
   "execution_count": null,
   "metadata": {},
   "outputs": [],
   "source": []
  },
  {
   "cell_type": "code",
   "execution_count": null,
   "metadata": {},
   "outputs": [],
   "source": []
  },
  {
   "cell_type": "code",
   "execution_count": null,
   "metadata": {},
   "outputs": [],
   "source": []
  }
 ],
 "metadata": {
  "kernelspec": {
   "display_name": "Python 3",
   "language": "python",
   "name": "python3"
  },
  "language_info": {
   "codemirror_mode": {
    "name": "ipython",
    "version": 3
   },
   "file_extension": ".py",
   "mimetype": "text/x-python",
   "name": "python",
   "nbconvert_exporter": "python",
   "pygments_lexer": "ipython3",
   "version": "3.8.5"
  }
 },
 "nbformat": 4,
 "nbformat_minor": 4
}
